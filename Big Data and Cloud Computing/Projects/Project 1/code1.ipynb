{
  "nbformat": 4,
  "nbformat_minor": 0,
  "metadata": {
    "colab": {
      "name": "notebook-bdcc24-project1",
      "cell_execution_strategy": "setup",
      "provenance": []
    },
    "kernelspec": {
      "name": "python3",
      "display_name": "Python 3"
    },
    "language_info": {
      "name": "python"
    }
  },
  "cells": [
    {
      "cell_type": "code",
      "execution_count": null,
      "metadata": {
        "id": "bIw82qhuHWy0"
      },
      "outputs": [],
      "source": [
        "#@title Project, Authentication and Big Query Client\n",
        "\n",
        "#After creating the bucket \"bucket-bdcc24-project1\"\n",
        "#And uploading there the .csv files\n",
        "\n",
        "#Project\n",
        "PROJECT_ID = 'bdcc24-project1' #@param {type: \"string\"}\n",
        "\n",
        "#Authentication\n",
        "from google.colab import auth\n",
        "auth.authenticate_user()\n",
        "#!gcloud config set project {PROJECT_ID}\n",
        "\n",
        "#Big Query Client\n",
        "import google.cloud.bigquery as bq\n",
        "client = bq.Client(project=PROJECT_ID)\n"
      ]
    },
    {
      "cell_type": "code",
      "source": [
        "#@title Create Dataset and Load Tables\n",
        "\n",
        "#After creating the dataset \"openimages\"\n",
        "#And creating the tables using the .csv files in the bucket\n",
        "\n",
        "#Create Dataset\n",
        "dataset = client.create_dataset('openimages', exists_ok=True)\n",
        "\n",
        "#Load the Tables\n",
        "import pandas as pd\n",
        "dataset_id = PROJECT_ID+\".openimages\"\n",
        "\n",
        "#Classes\n",
        "classes_ref = dataset_id+\".classes\"\n",
        "classes_df = client.query(f\"SELECT * FROM `{classes_ref}`\").to_dataframe()\n",
        "classes_df = classes_df.rename(columns={\"string_field_0\": \"Label\", \"string_field_1\": \"Description\"})\n",
        "classes_df = classes_df.drop(0)\n",
        "\n",
        "#Image Labels\n",
        "image_labels_ref = dataset_id+\".image-labels\"\n",
        "image_labels_df = client.query(f\"SELECT * FROM `{image_labels_ref}`\").to_dataframe()\n",
        "image_labels_df = image_labels_df.rename(columns={\"string_field_0\": \"ImageId\", \"string_field_1\": \"Label\"})\n",
        "image_labels_df = image_labels_df.drop(0)\n",
        "\n",
        "#Relations\n",
        "relations_ref = dataset_id+\".relations\"\n",
        "relations_df = client.query(f\"SELECT * FROM `{relations_ref}`\").to_dataframe()\n",
        "relations_df = relations_df.rename(columns={\"string_field_0\": \"ImageId\", \"string_field_1\": \"Label1\", \"string_field_2\": \"Relation\", \"string_field_3\": \"Label2\"})\n",
        "relations_df = relations_df.drop(0)"
      ],
      "metadata": {
        "id": "dNJrewxbGsv1"
      },
      "execution_count": null,
      "outputs": []
    },
    {
      "cell_type": "code",
      "source": [
        "#@title Load Tables in Big Query\n",
        "\n",
        "#Classes\n",
        "classes_ref2 = dataset_id+\".classes2\"\n",
        "client.delete_table(classes_ref2, not_found_ok=True)\n",
        "classes_table = bq.Table(classes_ref2)\n",
        "classes_table.schema = (\n",
        "        bq.SchemaField('Label',      'STRING'),\n",
        "        bq.SchemaField('Description','STRING')\n",
        ")\n",
        "client.create_table(classes_table)\n",
        "classes_load = client.load_table_from_dataframe(classes_df, classes_table)\n",
        "\n",
        "#Image Labels\n",
        "image_labels_ref2 = dataset_id+\".image-labels2\"\n",
        "client.delete_table(image_labels_ref2, not_found_ok=True)\n",
        "image_labels_table = bq.Table(image_labels_ref2)\n",
        "image_labels_table.schema = (\n",
        "    bq.SchemaField('ImageId', 'STRING'),\n",
        "    bq.SchemaField('Label',   'STRING')\n",
        ")\n",
        "client.create_table(image_labels_table)\n",
        "image_labels_load = client.load_table_from_dataframe(image_labels_df, image_labels_table)\n",
        "\n",
        "#Relations\n",
        "relations_ref2 = dataset_id+\".relations2\"\n",
        "client.delete_table(relations_ref2, not_found_ok=True)\n",
        "relations_table = bq.Table(relations_ref2)\n",
        "relations_table.schema = (\n",
        "    bq.SchemaField('ImageId',  'STRING'),\n",
        "    bq.SchemaField('Label1',   'STRING'),\n",
        "    bq.SchemaField('Relation', 'STRING'),\n",
        "    bq.SchemaField('Label2',   'STRING'),\n",
        ")\n",
        "client.create_table(relations_table)\n",
        "relations_load = client.load_table_from_dataframe(relations_df, relations_table)"
      ],
      "metadata": {
        "id": "S3G7Lrp7L2Bm"
      },
      "execution_count": null,
      "outputs": []
    },
    {
      "cell_type": "code",
      "source": [
        "#@title Join Tables in Pandas\n",
        "\n",
        "#Joined1\n",
        "joined_df = pd.merge(classes_df, image_labels_df, on='Label')\n",
        "\n",
        "#Joined2\n",
        "classes_df = classes_df.rename(columns={'Label': 'Label1', 'Description': 'Description1'})\n",
        "joined2_df = pd.merge(relations_df, classes_df, on='Label1')\n",
        "classes_df = classes_df.rename(columns={'Label1': 'Label2', 'Description1': 'Description2'})\n",
        "joined2_df = pd.merge(joined2_df, classes_df, on='Label2')\n",
        "joined2_df['FinalRelation'] = joined2_df['Description1']+' '+joined2_df['Relation']+' '+joined2_df['Description2']\n",
        "\n",
        "#Joined3\n",
        "joined3_df = pd.merge(joined_df, joined2_df, on='ImageId')\n",
        "joined3_df.drop(columns=['Label'], inplace=True)\n",
        "joined3_df.rename(columns={'Description': 'Class'}, inplace=True)"
      ],
      "metadata": {
        "id": "UTAdhj7BjF-1"
      },
      "execution_count": null,
      "outputs": []
    },
    {
      "cell_type": "code",
      "source": [
        "#@title Load Joined Tables in Big Query\n",
        "\n",
        "#Joined1\n",
        "joined_ref = dataset_id+\".joined\"\n",
        "client.delete_table(joined_ref, not_found_ok=True)\n",
        "joined_table = bq.Table(joined_ref)\n",
        "joined_table.schema = (\n",
        "    bq.SchemaField('ImageId',       'STRING'),\n",
        "    bq.SchemaField('Label',         'STRING'),\n",
        "    bq.SchemaField('Description',   'STRING')\n",
        ")\n",
        "client.create_table(joined_table)\n",
        "joined_load = client.load_table_from_dataframe(joined_df, joined_table)\n",
        "\n",
        "#Joined2\n",
        "joined2_ref = dataset_id+\".joined2\"\n",
        "client.delete_table(joined2_ref, not_found_ok=True)\n",
        "joined2_table = bq.Table(joined2_ref)\n",
        "joined2_table.schema = (\n",
        "    bq.SchemaField('ImageId',       'STRING'),\n",
        "    bq.SchemaField('Label1',        'STRING'),\n",
        "    bq.SchemaField('Label2',        'STRING'),\n",
        "    bq.SchemaField('Relation',      'STRING'),\n",
        "    bq.SchemaField('Description1',  'STRING'),\n",
        "    bq.SchemaField('Description2',  'STRING'),\n",
        "    bq.SchemaField('FinalRelation', 'STRING')\n",
        ")\n",
        "client.create_table(joined2_table)\n",
        "joined2_load = client.load_table_from_dataframe(joined2_df, joined2_table)\n",
        "\n",
        "#Joined3\n",
        "joined3_ref = dataset_id+\".joined3\"\n",
        "client.delete_table(joined3_ref, not_found_ok=True)\n",
        "joined3_table = bq.Table(joined3_ref)\n",
        "joined3_table.schema = (\n",
        "    bq.SchemaField('Class',         'STRING'),\n",
        "    bq.SchemaField('ImageId',       'STRING'),\n",
        "    bq.SchemaField('Label1',        'STRING'),\n",
        "    bq.SchemaField('Label2',        'STRING'),\n",
        "    bq.SchemaField('Relation',      'STRING'),\n",
        "    bq.SchemaField('Description1',  'STRING'),\n",
        "    bq.SchemaField('Description2',  'STRING'),\n",
        "    bq.SchemaField('FinalRelation', 'STRING')\n",
        ")\n",
        "client.create_table(joined3_table)\n",
        "joined3_load = client.load_table_from_dataframe(joined3_df, joined3_table)"
      ],
      "metadata": {
        "id": "9IgwZ0B50Xs3"
      },
      "execution_count": null,
      "outputs": []
    }
  ]
}